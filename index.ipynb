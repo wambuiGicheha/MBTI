{
 "cells": [
  {
   "cell_type": "markdown",
   "metadata": {},
   "source": [
    "\n",
    "## Business Problem: Predicting Personality Types for Enhanced User Engagement\n",
    "### Background\n",
    "In today’s highly personalized digital landscape, businesses and platforms strive to deliver tailored experiences to their users. Understanding a user’s personality can enable companies to improve recommendations, content delivery, and overall engagement. However, traditional personality assessment methods, like the Myers-Briggs Type Indicator (MBTI), require users to answer lengthy questionnaires, which can be time-consuming and inconvenient.\n",
    "\n",
    "### Problem Statement\n",
    "The goal is to develop a machine learning model that predicts a person’s MBTI personality type based solely on their written text. This eliminates the need for lengthy questionnaires, providing a seamless, data-driven way to infer personality traits.\n",
    "\n",
    "### Use Case Scenarios\n",
    "\n",
    "* Content Recommendation Systems\n",
    "Platforms like Netflix, YouTube, or Spotify can use personality predictions to recommend content aligned with users' preferences and cognitive styles.\n",
    "* Targeted Marketing\n",
    "Businesses can create personalized marketing campaigns that resonate with users’ personality traits, increasing engagement and conversions.\n",
    "* HR and Recruitment\n",
    "Companies can use text-based personality analysis to screen candidates, ensuring better cultural fit and team dynamics.\n",
    "* Mental Health and Well-being Apps\n",
    "Predicting personality types can help tailor advice, resources, and interactions to support users’ mental health more effectively.\n",
    "\n",
    "## Objective\n",
    "Build a machine learning model that predicts the MBTI personality type from text data, enabling businesses to integrate personality-based insights into their operations.\n",
    "\n",
    "### Key Questions\n",
    "\n",
    "1. Can personality types be inferred reliably from users' written text?\n",
    "\n",
    "2. Which language features (e.g., sentiment, word choice, syntax) are most indicative of specific MBTI dimensions (e.g., introversion vs. extroversion)?\n",
    "3. How accurately can the model predict MBTI types, and what level of confidence is sufficient for real-world applications?\n",
    "\n",
    "#### Evaluation Metrics\n",
    "\n",
    "Accuracy: Overall performance of the model in predicting the correct MBTI type.\n",
    "\n",
    "Precision and Recall: Performance for individual personality dimensions.\n",
    "\n",
    "F1-Score: A balance between precision and recall.\n",
    "\n",
    "Confusion Matrix: Insights into misclassifications between similar MBTI types."
   ]
  },
  {
   "cell_type": "code",
   "execution_count": 11,
   "metadata": {},
   "outputs": [
    {
     "name": "stdout",
     "output_type": "stream",
     "text": [
      "   type                                              posts\n",
      "0  INTJ  'There are two Entrepreneurial related shows o...\n",
      "1  ISFP  'Dear Associates, thanks for bashing my ISFP-n...\n",
      "2  ISFJ  'LOL! Funny. Your ego is hilariously huge. Aga...\n",
      "3  ENTP  'Johnnywise, that's what I'm calling you.  Don...\n",
      "4  INFP  'Too true:  The old world will burn in the fir...\n",
      "                                               posts  type\n",
      "0  'As an ENFJ, how ambitious are you? I am fairl...  ENFJ\n",
      "1  I was fine academically. Hated things where I ...  ENFJ\n",
      "2  'I chose populists, liberalists and pacifists ...  ENFJ\n",
      "3  'https://www.youtube.com/watch?v=I6PYn-0XrgQ||...  ENFJ\n",
      "4  'I am always falling for the introverts...|||O...  ENFJ\n"
     ]
    }
   ],
   "source": [
    "#import libraries\n",
    "import numpy as np\n",
    "import pandas as pd\n",
    "import matplotlib.pyplot as plt\n",
    "import seaborn as sns\n",
    "\n",
    "#load data\n",
    "mbti_data = pd.read_csv('Data/reduced_mbti_dataset.csv', )\n",
    "print(mbti_data.head(5))\n",
    "\n",
    "#load the balanced dataset\n",
    "balanced_data = pd.read_csv('Data/balanced_mbti_dataset.csv')\n",
    "print(balanced_data.head(5))"
   ]
  },
  {
   "cell_type": "code",
   "execution_count": 12,
   "metadata": {},
   "outputs": [
    {
     "name": "stdout",
     "output_type": "stream",
     "text": [
      "type     0\n",
      "posts    0\n",
      "dtype: int64\n",
      "posts    0\n",
      "type     0\n",
      "dtype: int64\n"
     ]
    }
   ],
   "source": [
    "#check for missing values\n",
    "print(mbti_data.isnull().sum())\n",
    "print(balanced_data.isnull().sum())\n",
    "\n"
   ]
  },
  {
   "cell_type": "markdown",
   "metadata": {},
   "source": [
    "the are no missing values in this dataset"
   ]
  },
  {
   "cell_type": "markdown",
   "metadata": {},
   "source": [
    "### Exploratory Data Analysis\n"
   ]
  },
  {
   "cell_type": "code",
   "execution_count": null,
   "metadata": {},
   "outputs": [
    {
     "name": "stderr",
     "output_type": "stream",
     "text": [
      "<ipython-input-3-ad9ab2642289>:3: FutureWarning: \n",
      "\n",
      "Passing `palette` without assigning `hue` is deprecated and will be removed in v0.14.0. Assign the `x` variable to `hue` and set `legend=False` for the same effect.\n",
      "\n",
      "  sns.countplot(x='type', data=mbti_data, order=mbti_data['type'].value_counts().index, palette='viridis')\n"
     ]
    },
    {
     "data": {
      "image/png": "[encoded data removed]",
      "text/plain": [
       "<Figure size 864x432 with 1 Axes>"
      ]
     },
     "metadata": {
      "needs_background": "light"
     },
     "output_type": "display_data"
    }
   ],
   "source": [
    "#Analyze the distribution of MBTI types\n",
    "plt.figure(figsize=(12,6))\n",
    "sns.countplot(x='type', data=mbti_data, order=mbti_data['type'].value_counts().index, palette='viridis')\n",
    "plt.title('Distribution of MBTI types')\n",
    "plt.show()  #The distribution of MBTI types is not balanced. The dataset is biased towards INFP and INFJ types."
   ]
  },
  {
   "cell_type": "markdown",
   "metadata": {},
   "source": [
    "The type feature is the target feature that will be one hot encoded for modelling purposes. So the bar graph above indicates that there is a class imbalance in the target feature. I will use techniques such as SMOTE or class weights to address this later before training. "
   ]
  },
  {
   "cell_type": "code",
   "execution_count": 13,
   "metadata": {},
   "outputs": [
    {
     "name": "stderr",
     "output_type": "stream",
     "text": [
      "<ipython-input-13-a0b86fc179d2>:3: FutureWarning: \n",
      "\n",
      "Passing `palette` without assigning `hue` is deprecated and will be removed in v0.14.0. Assign the `x` variable to `hue` and set `legend=False` for the same effect.\n",
      "\n",
      "  sns.countplot(x='type', data=balanced_data, order=mbti_data['type'].value_counts().index, palette='viridis')\n"
     ]
    },
    {
     "data": {
      "image/png": "[encoded data removed]",
      "text/plain": [
       "<Figure size 864x432 with 1 Axes>"
      ]
     },
     "metadata": {
      "needs_background": "light"
     },
     "output_type": "display_data"
    }
   ],
   "source": [
    "#Analyze the distribution of MBTI types\n",
    "plt.figure(figsize=(12,6))\n",
    "sns.countplot(x='type', data=balanced_data, order=mbti_data['type'].value_counts().index, palette='viridis')\n",
    "plt.title('Distribution of MBTI types')\n",
    "plt.show()  #The distribution of MBTI types is not balanced. The dataset is biased towards INFP and INFJ types."
   ]
  },
  {
   "cell_type": "code",
   "execution_count": 14,
   "metadata": {},
   "outputs": [
    {
     "name": "stdout",
     "output_type": "stream",
     "text": [
      "count    2602.000000\n",
      "mean     1282.316679\n",
      "std       309.621312\n",
      "min        89.000000\n",
      "25%      1100.000000\n",
      "50%      1330.000000\n",
      "75%      1513.000000\n",
      "max      1899.000000\n",
      "Name: post_length, dtype: float64\n",
      "count     624.000000\n",
      "mean     1273.219551\n",
      "std       318.531877\n",
      "min       186.000000\n",
      "25%      1083.000000\n",
      "50%      1318.500000\n",
      "75%      1501.000000\n",
      "max      1890.000000\n",
      "Name: post_length, dtype: float64\n",
      "   type                                              posts  post_length\n",
      "0  INTJ  'There are two Entrepreneurial related shows o...         1524\n",
      "1  ISFP  'Dear Associates, thanks for bashing my ISFP-n...         1446\n",
      "2  ISFJ  'LOL! Funny. Your ego is hilariously huge. Aga...         1446\n",
      "3  ENTP  'Johnnywise, that's what I'm calling you.  Don...         1698\n",
      "4  INFP  'Too true:  The old world will burn in the fir...         1087\n",
      "                                               posts  type  post_length\n",
      "0  'As an ENFJ, how ambitious are you? I am fairl...  ENFJ         1501\n",
      "1  I was fine academically. Hated things where I ...  ENFJ         1325\n",
      "2  'I chose populists, liberalists and pacifists ...  ENFJ         1131\n",
      "3  'https:// youtube. /watch?v=I6PYn-0XrgQ thank ...  ENFJ         1419\n",
      "4  'I am always falling for the introverts... Or,...  ENFJ         1673\n"
     ]
    }
   ],
   "source": [
    "#Inspect the text data for length, format, and content quality\n",
    "mbti_data['posts'] = mbti_data['posts'].apply(lambda x: x.replace('|||', ' '))\n",
    "balanced_data['posts'] = balanced_data['posts'].apply(lambda x: x.replace('|||', ' '))\n",
    "\n",
    "mbti_data['posts'] = mbti_data['posts'].apply(lambda x: x.replace('||', ' '))\n",
    "balanced_data['posts'] = balanced_data['posts'].apply(lambda x: x.replace('||', ' '))\n",
    "\n",
    "mbti_data['posts'] = mbti_data['posts'].apply(lambda x: x.replace('http://', ' '))\n",
    "balanced_data['posts'] = balanced_data['posts'].apply(lambda x: x.replace('http://', ' '))\n",
    "mbti_data['posts'] = mbti_data['posts'].apply(lambda x: x.replace('https://', ' '))\n",
    "\n",
    "mbti_data['posts'] = mbti_data['posts'].apply(lambda x: x.replace('www.', ' '))\n",
    "balanced_data['posts'] = balanced_data['posts'].apply(lambda x: x.replace('www.', ' '))\n",
    "\n",
    "mbti_data['posts'] = mbti_data['posts'].apply(lambda x: x.replace('com', ' '))\n",
    "balanced_data['posts'] = balanced_data['posts'].apply(lambda x: x.replace('com', ' '))\n",
    "\n",
    "mbti_data['posts'] = mbti_data['posts'].apply(lambda x: x.replace('org', ' '))\n",
    "balanced_data['posts'] = balanced_data['posts'].apply(lambda x: x.replace('org', ' '))\n",
    "\n",
    "\n",
    "mbti_data['posts'] = mbti_data['posts'].apply(lambda x: x.replace('net', ' '))\n",
    "balanced_data['posts'] = balanced_data['posts'].apply(lambda x: x.replace('net', ' '))\n",
    "\n",
    "mbti_data['posts'] = mbti_data['posts'].apply(lambda x: x.replace('html', ' '))\n",
    "balanced_data['posts'] = balanced_data['posts'].apply(lambda x: x.replace('html', ' '))\n",
    "\n",
    "mbti_data['posts'] = mbti_data['posts'].apply(lambda x: x.replace('pdf', ' '))\n",
    "balanced_data['posts'] = balanced_data['posts'].apply(lambda x: x.replace('pdf', ' '))\n",
    "\n",
    "mbti_data['post_length'] = mbti_data['posts'].apply(lambda x: len(x.split()))\n",
    "balanced_data['post_length'] = balanced_data['posts'].apply(lambda x: len(x.split()))\n",
    "\n",
    "print(mbti_data['post_length'].describe())\n",
    "print(balanced_data['post_length'].describe())\n",
    "\n",
    "print(mbti_data.head(5))\n",
    "print(balanced_data.head(5))\n"
   ]
  },
  {
   "cell_type": "code",
   "execution_count": null,
   "metadata": {},
   "outputs": [
    {
     "name": "stderr",
     "output_type": "stream",
     "text": [
      "<ipython-input-5-57b470da25dc>:3: FutureWarning: \n",
      "\n",
      "Passing `palette` without assigning `hue` is deprecated and will be removed in v0.14.0. Assign the `x` variable to `hue` and set `legend=False` for the same effect.\n",
      "\n",
      "  sns.boxplot(x='type', y='post_length', data=mbti_data, palette='viridis')\n"
     ]
    },
    {
     "data": {
      "image/png": "[encoded data removed]",
      "text/plain": [
       "<Figure size 864x864 with 1 Axes>"
      ]
     },
     "metadata": {
      "needs_background": "light"
     },
     "output_type": "display_data"
    }
   ],
   "source": [
    "#Visualize relationships between MBTI types and text features.\n",
    "plt.figure(figsize=(12,12))\n",
    "sns.boxplot(x='type', y='post_length', data=mbti_data, palette='viridis')\n",
    "plt.title('Distribution of post length by MBTI type')\n",
    "plt.show()  #The post length distribution is similar across all MBTI types.\n"
   ]
  },
  {
   "cell_type": "markdown",
   "metadata": {},
   "source": [
    "### Data Preprocessing and modelling \n",
    "\n",
    "\n"
   ]
  },
  {
   "cell_type": "code",
   "execution_count": 6,
   "metadata": {},
   "outputs": [
    {
     "data": {
      "text/plain": [
       "Index(['type', 'posts', 'post_length'], dtype='object')"
      ]
     },
     "execution_count": 6,
     "metadata": {},
     "output_type": "execute_result"
    }
   ],
   "source": [
    "#check the mbti_data columns \n",
    "mbti_data.columns"
   ]
  },
  {
   "cell_type": "code",
   "execution_count": 16,
   "metadata": {},
   "outputs": [
    {
     "name": "stdout",
     "output_type": "stream",
     "text": [
      "type\n",
      "INFP    550\n",
      "INFJ    441\n",
      "INTP    391\n",
      "INTJ    327\n",
      "ENTP    205\n",
      "ENFP    202\n",
      "ISTP    101\n",
      "ISFP     81\n",
      "ENTJ     69\n",
      "ISTJ     62\n",
      "ENFJ     57\n",
      "ISFJ     50\n",
      "ESTP     27\n",
      "ESFP     14\n",
      "ESFJ     13\n",
      "ESTJ     12\n",
      "Name: count, dtype: int64\n",
      "type\n",
      "ENFJ    39\n",
      "ENFP    39\n",
      "ENTJ    39\n",
      "ENTP    39\n",
      "ESFJ    39\n",
      "ESFP    39\n",
      "ESTJ    39\n",
      "ESTP    39\n",
      "INFJ    39\n",
      "INFP    39\n",
      "INTJ    39\n",
      "INTP    39\n",
      "ISFJ    39\n",
      "ISFP    39\n",
      "ISTJ    39\n",
      "ISTP    39\n",
      "Name: count, dtype: int64\n"
     ]
    }
   ],
   "source": [
    "print(mbti_data['type'].value_counts())\n",
    "print(balanced_data['type'].value_counts())"
   ]
  },
  {
   "cell_type": "code",
   "execution_count": 15,
   "metadata": {},
   "outputs": [
    {
     "name": "stderr",
     "output_type": "stream",
     "text": [
      "<ipython-input-15-fefddda5a302>:3: FutureWarning: \n",
      "\n",
      "Passing `palette` without assigning `hue` is deprecated and will be removed in v0.14.0. Assign the `x` variable to `hue` and set `legend=False` for the same effect.\n",
      "\n",
      "  sns.boxplot(x='type', y='post_length', data=balanced_data, palette='viridis')\n"
     ]
    },
    {
     "data": {
      "image/png": "[encoded data removed]",
      "text/plain": [
       "<Figure size 864x864 with 1 Axes>"
      ]
     },
     "metadata": {
      "needs_background": "light"
     },
     "output_type": "display_data"
    }
   ],
   "source": [
    "#Visualize relationships between MBTI types and text features.\n",
    "plt.figure(figsize=(12,12))\n",
    "sns.boxplot(x='type', y='post_length', data=balanced_data, palette='viridis')\n",
    "plt.title('Distribution of post length by MBTI type')\n",
    "plt.show()  #The post length distribution is similar across all MBTI types."
   ]
  },
  {
   "cell_type": "code",
   "execution_count": null,
   "metadata": {},
   "outputs": [],
   "source": []
  }
 ],
 "metadata": {
  "kernelspec": {
   "display_name": "learn-env",
   "language": "python",
   "name": "python3"
  },
  "language_info": {
   "codemirror_mode": {
    "name": "ipython",
    "version": 3
   },
   "file_extension": ".py",
   "mimetype": "text/x-python",
   "name": "python",
   "nbconvert_exporter": "python",
   "pygments_lexer": "ipython3",
   "version": "3.8.5"
  }
 },
 "nbformat": 4,
 "nbformat_minor": 2
}
